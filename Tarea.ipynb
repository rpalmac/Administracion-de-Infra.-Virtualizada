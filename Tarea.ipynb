{
  "nbformat": 4,
  "nbformat_minor": 0,
  "metadata": {
    "colab": {
      "name": "Untitled3.ipynb",
      "provenance": [],
      "authorship_tag": "ABX9TyOsQjS9RTQRHEytKc/yYl7H",
      "include_colab_link": true
    },
    "kernelspec": {
      "name": "python3",
      "display_name": "Python 3"
    },
    "language_info": {
      "name": "python"
    }
  },
  "cells": [
    {
      "cell_type": "markdown",
      "metadata": {
        "id": "view-in-github",
        "colab_type": "text"
      },
      "source": [
        "<a href=\"https://colab.research.google.com/github/rpalmac/Automatizacion-de-Infraestructura-Digital/blob/main/Tarea.ipynb\" target=\"_parent\"><img src=\"https://colab.research.google.com/assets/colab-badge.svg\" alt=\"Open In Colab\"/></a>"
      ]
    },
    {
      "cell_type": "code",
      "metadata": {
        "id": "sCix0WGjq4b4",
        "outputId": "45cb53b8-0309-4d03-ccfe-7b3b96dc06d6",
        "colab": {
          "base_uri": "https://localhost:8080/"
        }
      },
      "source": [
        "#Declaracion de funciones\n",
        "\n",
        "#Funcion sin parametros\n",
        "\n",
        "def funcion1 ():\n",
        "\tprint('Has llamado a la funcion 1')\n",
        "\n",
        "#Funcion con parametros y retorno\n",
        "\n",
        "def funcion2(a,b):\n",
        "\t#contenido de la funcion\n",
        "\tc=int(a)+int(b)\n",
        "\treturn c\n",
        "\n",
        "\n",
        "#Llamamos las funciones declaradas en otro archivo\n",
        "#from FuncionesExternas import *\n",
        "\n",
        "#Invocamos las funciones\n",
        "funcion1()\n",
        "#Invovamos la otra funcion\n",
        "Q=input('introduzca un dato: ')\n",
        "W=input('Introduzca otro dato: ')\n",
        "print('La sumatoria de los dos datos es: ')\n",
        "print(funcion2(Q,W))"
      ],
      "execution_count": 1,
      "outputs": [
        {
          "output_type": "stream",
          "text": [
            "Has llamado a la funcion 1\n",
            "introduzca un dato: 1\n",
            "Introduzca otro dato: 2\n",
            "La sumatoria de los dos datos es: \n",
            "3\n"
          ],
          "name": "stdout"
        }
      ]
    }
  ]
}